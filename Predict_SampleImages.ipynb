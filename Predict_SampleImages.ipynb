{
 "cells": [
  {
   "cell_type": "code",
   "execution_count": 79,
   "metadata": {
    "collapsed": false
   },
   "outputs": [],
   "source": [
    "import cv2\n",
    "import numpy as np\n",
    "\n",
    "def cropCordinates(image):\n",
    "    height, width = image.shape[:2]\n",
    "    \n",
    "    new_size = min(height, width)\n",
    "    cropped = None\n",
    "    \n",
    "    if new_size == height:\n",
    "        start_row, start_col = int(0), int(0 + (width - new_size) / 2)\n",
    "\n",
    "        end_row, end_col = int(height), int(width - (width - new_size) / 2)\n",
    "\n",
    "        return (start_row, start_col, end_row, end_col)\n",
    "    else:\n",
    "        start_row, start_col = int(0 + (height - new_size) / 2), int(0)\n",
    "\n",
    "        end_row, end_col = int(height - (height - new_size) / 2), int(width)\n",
    "\n",
    "        return (start_row, start_col, end_row, end_col)\n",
    "    \n",
    "def crop(image):\n",
    "    start_row, start_col, end_row, end_col = cropCordinates(image)\n",
    "    \n",
    "    return image[start_row:end_row , start_col:end_col]\n",
    "    \n",
    "def convertTo32by32(image):\n",
    "    cropped = crop(image)\n",
    "    resized = cv2.resize(cropped, (32, 32), interpolation = cv2.INTER_AREA)\n",
    "    \n",
    "#     cv2.imshow(\"Resized\", resized) \n",
    "#     cv2.waitKey(0)     \n",
    "#     cv2.destroyAllWindows()\n",
    "#     cv2.waitKey(1)\n",
    "    \n",
    "    return resized\n",
    "\n",
    "def swapChannel(image):\n",
    "    return np.swapaxes(np.swapaxes(image, 0, 2),1,2)\n",
    "\n",
    "def prepareImage(image):\n",
    "    return swapChannel(convertTo32by32(image))"
   ]
  },
  {
   "cell_type": "code",
   "execution_count": null,
   "metadata": {
    "collapsed": false
   },
   "outputs": [],
   "source": [
    "print prepareImage(cv2.imread('images/frog-rect.jpg')).shape\n",
    "print prepareImage(cv2.imread('images/frog-vert.png')).shape"
   ]
  },
  {
   "cell_type": "code",
   "execution_count": 80,
   "metadata": {
    "collapsed": false
   },
   "outputs": [],
   "source": [
    "from keras.models import load_model\n",
    "\n",
    "model = load_model('larger-cnn.h5')\n",
    "\n",
    "def predict(image):\n",
    "    classes = ['airplane', 'automobile', 'bird', 'cat', 'deer', 'dog', 'frog', 'horse', 'ship', 'truck']\n",
    "    \n",
    "    x = prepareImage(image)\n",
    "    \n",
    "    x = x.astype('float32') \n",
    "    x = x / 255.0 \n",
    "    x = np.expand_dims(x, axis=0)\n",
    "    \n",
    "    weighted_classes = list(model.predict(x, verbose=0)[0])\n",
    "    pred = max(weighted_classes)\n",
    "    \n",
    "    precision = pred / sum(weighted_classes)\n",
    "    \n",
    "    return (classes[weighted_classes.index(pred)], precision)"
   ]
  },
  {
   "cell_type": "code",
   "execution_count": 81,
   "metadata": {
    "collapsed": false
   },
   "outputs": [
    {
     "name": "stdout",
     "output_type": "stream",
     "text": [
      "('airplane', 0.99978578820484643)\n",
      "('airplane', 0.99999997787083617)\n",
      "('airplane', 0.99999799802132305)\n"
     ]
    }
   ],
   "source": [
    "print predict(cv2.imread('images/airplane-01.jpg'))\n",
    "print predict(cv2.imread('images/airplane-02.jpg'))\n",
    "print predict(cv2.imread('images/airplane-03.jpg'))"
   ]
  },
  {
   "cell_type": "code",
   "execution_count": 82,
   "metadata": {
    "collapsed": false
   },
   "outputs": [
    {
     "name": "stdout",
     "output_type": "stream",
     "text": [
      "('automobile', 0.99999504135386508)\n",
      "('automobile', 0.96686182620006944)\n",
      "('automobile', 0.99989117853252396)\n"
     ]
    }
   ],
   "source": [
    "print predict(cv2.imread('images/automobile-01.jpg'))\n",
    "print predict(cv2.imread('images/automobile-02.jpg'))\n",
    "print predict(cv2.imread('images/automobile-03.jpg'))"
   ]
  },
  {
   "cell_type": "code",
   "execution_count": 83,
   "metadata": {
    "collapsed": false
   },
   "outputs": [
    {
     "name": "stdout",
     "output_type": "stream",
     "text": [
      "('bird', 0.99998036860612438)\n",
      "('airplane', 0.72707449110952282)\n",
      "('bird', 0.99984114316131267)\n"
     ]
    }
   ],
   "source": [
    "print predict(cv2.imread('images/bird-01.jpg'))\n",
    "print predict(cv2.imread('images/bird-02.png'))\n",
    "print predict(cv2.imread('images/bird-03.jpg'))"
   ]
  },
  {
   "cell_type": "code",
   "execution_count": 84,
   "metadata": {
    "collapsed": false
   },
   "outputs": [
    {
     "name": "stdout",
     "output_type": "stream",
     "text": [
      "('cat', 0.96092851117593769)\n",
      "('cat', 0.98011898653787266)\n",
      "('cat', 0.96463835278110266)\n"
     ]
    }
   ],
   "source": [
    "print predict(cv2.imread('images/cat-01.jpg'))\n",
    "print predict(cv2.imread('images/cat-02.jpg'))\n",
    "print predict(cv2.imread('images/cat-03.jpg'))"
   ]
  },
  {
   "cell_type": "code",
   "execution_count": 85,
   "metadata": {
    "collapsed": false
   },
   "outputs": [
    {
     "name": "stdout",
     "output_type": "stream",
     "text": [
      "('deer', 0.98758072425640064)\n",
      "('deer', 0.9981710374422833)\n",
      "('bird', 0.60071899639226489)\n"
     ]
    }
   ],
   "source": [
    "print predict(cv2.imread('images/deer-01.jpg'))\n",
    "print predict(cv2.imread('images/deer-02.jpg'))\n",
    "print predict(cv2.imread('images/deer-03.jpg'))"
   ]
  },
  {
   "cell_type": "code",
   "execution_count": 86,
   "metadata": {
    "collapsed": false
   },
   "outputs": [
    {
     "name": "stdout",
     "output_type": "stream",
     "text": [
      "('cat', 0.77759511110515767)\n",
      "('dog', 0.57831404181058466)\n",
      "('cat', 0.87355838424613552)\n"
     ]
    }
   ],
   "source": [
    "print predict(cv2.imread('images/dog-01.jpg'))\n",
    "print predict(cv2.imread('images/dog-02.jpg'))\n",
    "print predict(cv2.imread('images/dog-03.jpg'))"
   ]
  },
  {
   "cell_type": "code",
   "execution_count": 87,
   "metadata": {
    "collapsed": false
   },
   "outputs": [
    {
     "name": "stdout",
     "output_type": "stream",
     "text": [
      "('truck', 0.47710126938327874)\n",
      "('automobile', 0.8800995811845379)\n",
      "('automobile', 0.99985671153420963)\n"
     ]
    }
   ],
   "source": [
    "print predict(cv2.imread('images/frog-01.jpg'))\n",
    "print predict(cv2.imread('images/frog-02.jpg'))\n",
    "print predict(cv2.imread('images/frog-03.jpg'))"
   ]
  },
  {
   "cell_type": "code",
   "execution_count": 88,
   "metadata": {
    "collapsed": false
   },
   "outputs": [
    {
     "name": "stdout",
     "output_type": "stream",
     "text": [
      "('airplane', 0.88880101316282689)\n",
      "('airplane', 0.99923741391610488)\n",
      "('dog', 0.3588241987109177)\n"
     ]
    }
   ],
   "source": [
    "print predict(cv2.imread('images/horse-01.jpg'))\n",
    "print predict(cv2.imread('images/horse-02.jpg'))\n",
    "print predict(cv2.imread('images/horse-03.jpg'))"
   ]
  },
  {
   "cell_type": "code",
   "execution_count": 89,
   "metadata": {
    "collapsed": false
   },
   "outputs": [
    {
     "name": "stdout",
     "output_type": "stream",
     "text": [
      "('cat', 0.72194112218114881)\n",
      "('ship', 0.9768867681037352)\n",
      "('bird', 0.40186865230858104)\n"
     ]
    }
   ],
   "source": [
    "print predict(cv2.imread('images/ship-01.jpg'))\n",
    "print predict(cv2.imread('images/ship-02.jpg'))\n",
    "print predict(cv2.imread('images/ship-03.jpg'))"
   ]
  },
  {
   "cell_type": "code",
   "execution_count": 90,
   "metadata": {
    "collapsed": false
   },
   "outputs": [
    {
     "name": "stdout",
     "output_type": "stream",
     "text": [
      "('truck', 0.9999999626801489)\n",
      "('truck', 0.99999999997507572)\n",
      "('truck', 0.99999743590892998)\n"
     ]
    }
   ],
   "source": [
    "print predict(cv2.imread('images/truck-01.jpg'))\n",
    "print predict(cv2.imread('images/truck-02.jpg'))\n",
    "print predict(cv2.imread('images/truck-03.jpg'))"
   ]
  },
  {
   "cell_type": "code",
   "execution_count": null,
   "metadata": {
    "collapsed": true
   },
   "outputs": [],
   "source": []
  }
 ],
 "metadata": {
  "kernelspec": {
   "display_name": "Python 2",
   "language": "python",
   "name": "python2"
  },
  "language_info": {
   "codemirror_mode": {
    "name": "ipython",
    "version": 2
   },
   "file_extension": ".py",
   "mimetype": "text/x-python",
   "name": "python",
   "nbconvert_exporter": "python",
   "pygments_lexer": "ipython2",
   "version": "2.7.13"
  }
 },
 "nbformat": 4,
 "nbformat_minor": 2
}
