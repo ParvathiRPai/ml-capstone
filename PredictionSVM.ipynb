{
 "cells": [
  {
   "cell_type": "code",
   "execution_count": 1,
   "metadata": {
    "collapsed": false
   },
   "outputs": [],
   "source": [
    "# %load common-prepare-image.py\n",
    "import cv2\n",
    "import numpy as np\n",
    "\n",
    "def cropCordinates(image):\n",
    "    height, width = image.shape[:2]\n",
    "\n",
    "    new_size = min(height, width)\n",
    "    cropped = None\n",
    "\n",
    "    if new_size == height:\n",
    "        start_row, start_col = int(0), int(0 + (width - new_size) / 2)\n",
    "\n",
    "        end_row, end_col = int(height), int(width - (width - new_size) / 2)\n",
    "\n",
    "        return (start_row, start_col, end_row, end_col)\n",
    "    else:\n",
    "        start_row, start_col = int(0 + (height - new_size) / 2), int(0)\n",
    "\n",
    "        end_row, end_col = int(height - (height - new_size) / 2), int(width)\n",
    "\n",
    "        return (start_row, start_col, end_row, end_col)\n",
    "\n",
    "def crop(image):\n",
    "    start_row, start_col, end_row, end_col = cropCordinates(image)\n",
    "\n",
    "    return image[start_row:end_row , start_col:end_col]\n",
    "\n",
    "def convertTo32by32(image):\n",
    "    cropped = crop(image)\n",
    "    resized = cv2.resize(cropped, (32, 32), interpolation = cv2.INTER_AREA)\n",
    "\n",
    "    return resized\n",
    "\n",
    "def swapChannel(image):\n",
    "    return np.swapaxes(np.swapaxes(image, 0, 2),1,2)\n",
    "\n",
    "def prepareImage(image, greyscale=False, preview=False):\n",
    "    result = convertTo32by32(image)\n",
    "    \n",
    "    if greyscale:\n",
    "        result = cv2.cvtColor(result, cv2.COLOR_BGRA2GRAY)\n",
    "    else:\n",
    "        resul = swapChannel(result)\n",
    "    \n",
    "    if preview:\n",
    "        cv2.imshow(\"Preview\", result)\n",
    "        cv2.waitKey(0)\n",
    "        cv2.destroyAllWindows()\n",
    "        cv2.waitKey(1)    \n",
    "    \n",
    "    return result\n"
   ]
  },
  {
   "cell_type": "code",
   "execution_count": 2,
   "metadata": {
    "collapsed": false
   },
   "outputs": [],
   "source": [
    "from sklearn.externals import joblib\n",
    "\n",
    "clf = joblib.load('classifiers/svm-classifier.pkl')"
   ]
  },
  {
   "cell_type": "code",
   "execution_count": 3,
   "metadata": {
    "collapsed": true
   },
   "outputs": [],
   "source": [
    "def predict(image):\n",
    "    classes = ['airplane', 'automobile', 'bird', 'cat', 'deer', 'dog', 'frog', 'horse', 'ship', 'truck']\n",
    "    \n",
    "    x = prepareImage(image, greyscale=True)\n",
    "    \n",
    "    x = np.array(x).flatten()\n",
    "    \n",
    "    pred = clf.predict([x])\n",
    "    \n",
    "    return classes[pred[0]]"
   ]
  },
  {
   "cell_type": "code",
   "execution_count": 4,
   "metadata": {
    "collapsed": false
   },
   "outputs": [
    {
     "name": "stdout",
     "output_type": "stream",
     "text": [
      "---- Airplanes ----\n",
      "truck\n",
      "truck\n",
      "truck\n",
      "---- Automobiles ----\n",
      "truck\n",
      "truck\n",
      "truck\n",
      "---- Birds ----\n",
      "truck\n",
      "truck\n",
      "frog\n",
      "---- Cats ----\n",
      "truck\n",
      "truck\n",
      "truck\n",
      "---- Deers ----\n",
      "truck\n",
      "truck\n",
      "truck\n",
      "---- Dogs ----\n",
      "truck\n",
      "truck\n",
      "truck\n",
      "---- Frogs ----\n",
      "truck\n",
      "truck\n",
      "truck\n",
      "---- Horses ----\n",
      "truck\n",
      "truck\n",
      "truck\n",
      "---- Ships ----\n",
      "truck\n",
      "truck\n",
      "truck\n",
      "---- Trucks ----\n",
      "truck\n",
      "truck\n",
      "truck\n"
     ]
    }
   ],
   "source": [
    "# %load common-predict-samples.py\n",
    "print \"---- Airplanes ----\"\n",
    "print predict(cv2.imread('images/airplane-01.jpg'))\n",
    "print predict(cv2.imread('images/airplane-02.jpg'))\n",
    "print predict(cv2.imread('images/airplane-03.jpg'))\n",
    "\n",
    "print \"---- Automobiles ----\"\n",
    "print predict(cv2.imread('images/automobile-01.jpg'))\n",
    "print predict(cv2.imread('images/automobile-02.jpg'))\n",
    "print predict(cv2.imread('images/automobile-03.jpg'))\n",
    "\n",
    "print \"---- Birds ----\"\n",
    "print predict(cv2.imread('images/bird-01.jpg'))\n",
    "print predict(cv2.imread('images/bird-02.png'))\n",
    "print predict(cv2.imread('images/bird-03.jpg'))\n",
    "\n",
    "print \"---- Cats ----\"\n",
    "print predict(cv2.imread('images/cat-01.jpg'))\n",
    "print predict(cv2.imread('images/cat-02.jpg'))\n",
    "print predict(cv2.imread('images/cat-03.jpg'))\n",
    "\n",
    "print \"---- Deers ----\"\n",
    "print predict(cv2.imread('images/deer-01.jpg'))\n",
    "print predict(cv2.imread('images/deer-02.jpg'))\n",
    "print predict(cv2.imread('images/deer-03.jpg'))\n",
    "\n",
    "print \"---- Dogs ----\"\n",
    "print predict(cv2.imread('images/dog-01.jpg'))\n",
    "print predict(cv2.imread('images/dog-02.jpg'))\n",
    "print predict(cv2.imread('images/dog-03.jpg'))\n",
    "\n",
    "print \"---- Frogs ----\"\n",
    "print predict(cv2.imread('images/frog-01.jpg'))\n",
    "print predict(cv2.imread('images/frog-02.jpg'))\n",
    "print predict(cv2.imread('images/frog-03.jpg'))\n",
    "\n",
    "print \"---- Horses ----\"\n",
    "print predict(cv2.imread('images/horse-01.jpg'))\n",
    "print predict(cv2.imread('images/horse-02.jpg'))\n",
    "print predict(cv2.imread('images/horse-03.jpg'))\n",
    "\n",
    "print \"---- Ships ----\"\n",
    "print predict(cv2.imread('images/ship-01.jpg'))\n",
    "print predict(cv2.imread('images/ship-02.jpg'))\n",
    "print predict(cv2.imread('images/ship-03.jpg'))\n",
    "\n",
    "print \"---- Trucks ----\"\n",
    "print predict(cv2.imread('images/truck-01.jpg'))\n",
    "print predict(cv2.imread('images/truck-02.jpg'))\n",
    "print predict(cv2.imread('images/truck-03.jpg'))\n"
   ]
  },
  {
   "cell_type": "code",
   "execution_count": null,
   "metadata": {
    "collapsed": true
   },
   "outputs": [],
   "source": []
  }
 ],
 "metadata": {
  "kernelspec": {
   "display_name": "Python 2",
   "language": "python",
   "name": "python2"
  },
  "language_info": {
   "codemirror_mode": {
    "name": "ipython",
    "version": 2
   },
   "file_extension": ".py",
   "mimetype": "text/x-python",
   "name": "python",
   "nbconvert_exporter": "python",
   "pygments_lexer": "ipython2",
   "version": "2.7.13"
  }
 },
 "nbformat": 4,
 "nbformat_minor": 2
}
