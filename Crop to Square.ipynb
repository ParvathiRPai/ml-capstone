{
 "cells": [
  {
   "cell_type": "code",
   "execution_count": 10,
   "metadata": {
    "collapsed": false
   },
   "outputs": [],
   "source": [
    "import cv2\n",
    "import numpy as np\n",
    "\n",
    "def crop(image):\n",
    "    height, width = image.shape[:2]\n",
    "\n",
    "    new_size = min(height, width)\n",
    "\n",
    "    if new_size == height:\n",
    "        start_row, start_col = int(0), int(0 + (width - new_size) / 2)\n",
    "\n",
    "        end_row, end_col = int(height), int(width - (width - new_size) / 2)\n",
    "\n",
    "        cropped = image[start_row:end_row , start_col:end_col]\n",
    "\n",
    "        cv2.imshow(\"Original Image\", image)\n",
    "        cv2.waitKey(0) \n",
    "        cv2.imshow(\"Cropped Image\", cropped) \n",
    "        cv2.waitKey(0) \n",
    "        cv2.destroyAllWindows()\n",
    "        cv2.waitKey(1)\n",
    "\n",
    "crop(cv2.imread('images/frog-rect.jpg'))\n",
    "crop(cv2.imread('images/maxresdefault.jpg'))"
   ]
  },
  {
   "cell_type": "code",
   "execution_count": null,
   "metadata": {
    "collapsed": true
   },
   "outputs": [],
   "source": []
  }
 ],
 "metadata": {
  "kernelspec": {
   "display_name": "Python 2",
   "language": "python",
   "name": "python2"
  },
  "language_info": {
   "codemirror_mode": {
    "name": "ipython",
    "version": 2
   },
   "file_extension": ".py",
   "mimetype": "text/x-python",
   "name": "python",
   "nbconvert_exporter": "python",
   "pygments_lexer": "ipython2",
   "version": "2.7.13"
  }
 },
 "nbformat": 4,
 "nbformat_minor": 2
}
